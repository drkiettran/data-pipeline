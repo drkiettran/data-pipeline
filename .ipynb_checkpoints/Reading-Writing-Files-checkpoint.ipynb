{
 "cells": [
  {
   "cell_type": "markdown",
   "id": "67da51d2",
   "metadata": {},
   "source": [
    "# Reading & Writing Files\n",
    "\n",
    "Based on Chapter 3 of Data Engineering in Python by Crickard.\n",
    "\n",
    "- Install `faker` library: `pip3 install faker`.\n",
    "- Install `pandas` library: `pip3 install pandas`.\n"
   ]
  },
  {
   "cell_type": "code",
   "execution_count": 12,
   "id": "33abab0b",
   "metadata": {},
   "outputs": [],
   "source": [
    "import csv\n",
    "from faker import Faker\n",
    "import pandas as pd"
   ]
  },
  {
   "cell_type": "markdown",
   "id": "3f57be00",
   "metadata": {},
   "source": [
    "## Simple write for CSV content"
   ]
  },
  {
   "cell_type": "code",
   "execution_count": 5,
   "id": "17497a40",
   "metadata": {},
   "outputs": [],
   "source": [
    "filename = 'myCSV.csv'\n",
    "output = open(filename, mode='w')\n",
    "mywriter = csv.writer(output)\n",
    "header = ['name', 'age']\n",
    "mywriter.writerow(header)\n",
    "data = ['Bob Smith', 40]\n",
    "mywriter.writerow(data)\n",
    "output.close()"
   ]
  },
  {
   "cell_type": "markdown",
   "id": "4a1a675e",
   "metadata": {},
   "source": [
    "## Simple write for CSV content with `fake` data generator"
   ]
  },
  {
   "cell_type": "code",
   "execution_count": 8,
   "id": "dd3ec41f",
   "metadata": {},
   "outputs": [],
   "source": [
    "filename = 'data.csv'\n",
    "output = open(filename,'w')\n",
    "fake = Faker()\n",
    "\n",
    "header = ['name','age','street','city','state','zip','lng','lat']\n",
    "mywriter = csv.writer(output)\n",
    "mywriter.writerow(header)\n",
    "\n",
    "for r in range(1000):\n",
    "    mywriter.writerow([fake.name(),fake.random_int(min=18,\n",
    "    max=80, step=1), fake.street_address(), fake.city(),fake.\n",
    "    state(),fake.zipcode(),fake.longitude(),fake.latitude()])\n",
    "    \n",
    "output.close()"
   ]
  },
  {
   "cell_type": "markdown",
   "id": "b34d3c3f",
   "metadata": {},
   "source": [
    "## Simple read for CSV content."
   ]
  },
  {
   "cell_type": "code",
   "execution_count": 13,
   "id": "1e3bab9b",
   "metadata": {},
   "outputs": [],
   "source": [
    "filename = 'data.csv'\n",
    "data = []\n",
    "with open(filename, 'r') as f:\n",
    "    myreader = csv.DictReader(f)\n",
    "    headers = next(myreader)\n",
    "    for row in myreader:\n",
    "        data.append(row)\n",
    "# print(data)        "
   ]
  },
  {
   "cell_type": "markdown",
   "id": "d5dcaca6",
   "metadata": {},
   "source": [
    "## Simple read for CSV content using Pandas library"
   ]
  },
  {
   "cell_type": "code",
   "execution_count": 14,
   "id": "68dd6b77",
   "metadata": {},
   "outputs": [
    {
     "data": {
      "text/html": [
       "<div>\n",
       "<style scoped>\n",
       "    .dataframe tbody tr th:only-of-type {\n",
       "        vertical-align: middle;\n",
       "    }\n",
       "\n",
       "    .dataframe tbody tr th {\n",
       "        vertical-align: top;\n",
       "    }\n",
       "\n",
       "    .dataframe thead th {\n",
       "        text-align: right;\n",
       "    }\n",
       "</style>\n",
       "<table border=\"1\" class=\"dataframe\">\n",
       "  <thead>\n",
       "    <tr style=\"text-align: right;\">\n",
       "      <th></th>\n",
       "      <th>name</th>\n",
       "      <th>age</th>\n",
       "      <th>street</th>\n",
       "      <th>city</th>\n",
       "      <th>state</th>\n",
       "      <th>zip</th>\n",
       "      <th>lng</th>\n",
       "      <th>lat</th>\n",
       "    </tr>\n",
       "  </thead>\n",
       "  <tbody>\n",
       "    <tr>\n",
       "      <th>0</th>\n",
       "      <td>Joshua Baker</td>\n",
       "      <td>48</td>\n",
       "      <td>10599 Taylor Streets Suite 612</td>\n",
       "      <td>West Shelly</td>\n",
       "      <td>Alabama</td>\n",
       "      <td>68918</td>\n",
       "      <td>-135.491595</td>\n",
       "      <td>67.377201</td>\n",
       "    </tr>\n",
       "    <tr>\n",
       "      <th>1</th>\n",
       "      <td>Caleb May</td>\n",
       "      <td>51</td>\n",
       "      <td>696 Jenkins Lock Apt. 819</td>\n",
       "      <td>Williamsberg</td>\n",
       "      <td>Montana</td>\n",
       "      <td>73335</td>\n",
       "      <td>96.343044</td>\n",
       "      <td>24.252357</td>\n",
       "    </tr>\n",
       "    <tr>\n",
       "      <th>2</th>\n",
       "      <td>Chase Wilson DVM</td>\n",
       "      <td>22</td>\n",
       "      <td>100 Scott Dam</td>\n",
       "      <td>North Scott</td>\n",
       "      <td>Pennsylvania</td>\n",
       "      <td>19442</td>\n",
       "      <td>35.610473</td>\n",
       "      <td>-88.751728</td>\n",
       "    </tr>\n",
       "    <tr>\n",
       "      <th>3</th>\n",
       "      <td>Amanda Arnold</td>\n",
       "      <td>69</td>\n",
       "      <td>3528 Tucker Tunnel Suite 249</td>\n",
       "      <td>Lake Jeffreyborough</td>\n",
       "      <td>Oregon</td>\n",
       "      <td>17280</td>\n",
       "      <td>-114.207265</td>\n",
       "      <td>56.258842</td>\n",
       "    </tr>\n",
       "    <tr>\n",
       "      <th>4</th>\n",
       "      <td>Patrick Dixon</td>\n",
       "      <td>35</td>\n",
       "      <td>214 Cervantes Village Suite 939</td>\n",
       "      <td>Lake Lisafurt</td>\n",
       "      <td>Rhode Island</td>\n",
       "      <td>66620</td>\n",
       "      <td>107.692251</td>\n",
       "      <td>-34.529648</td>\n",
       "    </tr>\n",
       "    <tr>\n",
       "      <th>5</th>\n",
       "      <td>Anna Allison</td>\n",
       "      <td>36</td>\n",
       "      <td>56440 Jackson Isle</td>\n",
       "      <td>West Wesleyview</td>\n",
       "      <td>Wisconsin</td>\n",
       "      <td>29485</td>\n",
       "      <td>131.377746</td>\n",
       "      <td>84.229962</td>\n",
       "    </tr>\n",
       "    <tr>\n",
       "      <th>6</th>\n",
       "      <td>Marcus Werner</td>\n",
       "      <td>20</td>\n",
       "      <td>9224 Hughes Villages Suite 060</td>\n",
       "      <td>Port Valeriehaven</td>\n",
       "      <td>Tennessee</td>\n",
       "      <td>66529</td>\n",
       "      <td>57.867875</td>\n",
       "      <td>-84.805444</td>\n",
       "    </tr>\n",
       "    <tr>\n",
       "      <th>7</th>\n",
       "      <td>Michael Bond</td>\n",
       "      <td>71</td>\n",
       "      <td>00552 Lee Meadow</td>\n",
       "      <td>Walkerborough</td>\n",
       "      <td>Maryland</td>\n",
       "      <td>26080</td>\n",
       "      <td>91.168829</td>\n",
       "      <td>-10.772884</td>\n",
       "    </tr>\n",
       "    <tr>\n",
       "      <th>8</th>\n",
       "      <td>Wanda Perez</td>\n",
       "      <td>55</td>\n",
       "      <td>303 Norton Branch</td>\n",
       "      <td>Walkerbury</td>\n",
       "      <td>New Hampshire</td>\n",
       "      <td>2368</td>\n",
       "      <td>126.409154</td>\n",
       "      <td>85.912323</td>\n",
       "    </tr>\n",
       "    <tr>\n",
       "      <th>9</th>\n",
       "      <td>Gary Anderson</td>\n",
       "      <td>68</td>\n",
       "      <td>469 Miller Station Suite 782</td>\n",
       "      <td>Judithmouth</td>\n",
       "      <td>West Virginia</td>\n",
       "      <td>49564</td>\n",
       "      <td>57.094034</td>\n",
       "      <td>36.766121</td>\n",
       "    </tr>\n",
       "  </tbody>\n",
       "</table>\n",
       "</div>"
      ],
      "text/plain": [
       "               name  age                           street  \\\n",
       "0      Joshua Baker   48   10599 Taylor Streets Suite 612   \n",
       "1         Caleb May   51        696 Jenkins Lock Apt. 819   \n",
       "2  Chase Wilson DVM   22                    100 Scott Dam   \n",
       "3     Amanda Arnold   69     3528 Tucker Tunnel Suite 249   \n",
       "4     Patrick Dixon   35  214 Cervantes Village Suite 939   \n",
       "5      Anna Allison   36               56440 Jackson Isle   \n",
       "6     Marcus Werner   20   9224 Hughes Villages Suite 060   \n",
       "7      Michael Bond   71                 00552 Lee Meadow   \n",
       "8       Wanda Perez   55                303 Norton Branch   \n",
       "9     Gary Anderson   68     469 Miller Station Suite 782   \n",
       "\n",
       "                  city          state    zip         lng        lat  \n",
       "0          West Shelly        Alabama  68918 -135.491595  67.377201  \n",
       "1         Williamsberg        Montana  73335   96.343044  24.252357  \n",
       "2          North Scott   Pennsylvania  19442   35.610473 -88.751728  \n",
       "3  Lake Jeffreyborough         Oregon  17280 -114.207265  56.258842  \n",
       "4        Lake Lisafurt   Rhode Island  66620  107.692251 -34.529648  \n",
       "5      West Wesleyview      Wisconsin  29485  131.377746  84.229962  \n",
       "6    Port Valeriehaven      Tennessee  66529   57.867875 -84.805444  \n",
       "7        Walkerborough       Maryland  26080   91.168829 -10.772884  \n",
       "8           Walkerbury  New Hampshire   2368  126.409154  85.912323  \n",
       "9          Judithmouth  West Virginia  49564   57.094034  36.766121  "
      ]
     },
     "execution_count": 14,
     "metadata": {},
     "output_type": "execute_result"
    }
   ],
   "source": [
    "df = pd.read_csv(filename)\n",
    "df.head(10)"
   ]
  },
  {
   "cell_type": "markdown",
   "id": "63407aeb",
   "metadata": {},
   "source": [
    "## Simple Write for JSON"
   ]
  },
  {
   "cell_type": "code",
   "execution_count": 34,
   "id": "00080a53",
   "metadata": {},
   "outputs": [],
   "source": [
    "import json\n",
    "import pandas.io.json as pd_JSON"
   ]
  },
  {
   "cell_type": "code",
   "execution_count": 31,
   "id": "309fd998",
   "metadata": {},
   "outputs": [
    {
     "data": {
      "text/plain": [
       "287967"
      ]
     },
     "execution_count": 31,
     "metadata": {},
     "output_type": "execute_result"
    }
   ],
   "source": [
    "filename = 'data.json'\n",
    "output = open(filename, 'w')\n",
    "fake = Faker()\n",
    "\n",
    "alldata = {}\n",
    "alldata ['records'] = []\n",
    "\n",
    "for x in range(1000):\n",
    "    data={\"name\":fake.name(),\"age\":fake.random_int(min=18, max=80, step=1),\n",
    "          \"street\":fake.street_address(),\n",
    "          \"city\":fake.city(),\"state\":fake.state(),\n",
    "          \"zip\":fake.zipcode(),\n",
    "          \"lng\":float(fake.longitude()),\n",
    "          \"lat\":float(fake.latitude())}\n",
    "    \n",
    "    alldata['records'].append(data)\n",
    "\n",
    "output.write(json.dumps(alldata, indent=4, sort_keys=True))"
   ]
  },
  {
   "cell_type": "markdown",
   "id": "103ba11a",
   "metadata": {},
   "source": [
    "# Simple Read for JSON content"
   ]
  },
  {
   "cell_type": "code",
   "execution_count": 32,
   "id": "c9925127",
   "metadata": {},
   "outputs": [
    {
     "data": {
      "text/plain": [
       "{'age': 68,\n",
       " 'city': 'New Danielfort',\n",
       " 'lat': -40.516858,\n",
       " 'lng': 115.2507,\n",
       " 'name': 'Dennis Gallagher',\n",
       " 'state': 'Rhode Island',\n",
       " 'street': '61868 Heather Ford',\n",
       " 'zip': '40800'}"
      ]
     },
     "execution_count": 32,
     "metadata": {},
     "output_type": "execute_result"
    }
   ],
   "source": [
    "filename = 'data.json'\n",
    "with open(filename, 'r') as f:\n",
    "    data = json.load(f)\n",
    "    \n",
    "data['records'][0]"
   ]
  },
  {
   "cell_type": "markdown",
   "id": "28e7564f",
   "metadata": {},
   "source": [
    "## Simple read for JSON content using Pandas DataFrame"
   ]
  },
  {
   "cell_type": "code",
   "execution_count": 33,
   "id": "1bc3f963",
   "metadata": {},
   "outputs": [
    {
     "data": {
      "text/html": [
       "<div>\n",
       "<style scoped>\n",
       "    .dataframe tbody tr th:only-of-type {\n",
       "        vertical-align: middle;\n",
       "    }\n",
       "\n",
       "    .dataframe tbody tr th {\n",
       "        vertical-align: top;\n",
       "    }\n",
       "\n",
       "    .dataframe thead th {\n",
       "        text-align: right;\n",
       "    }\n",
       "</style>\n",
       "<table border=\"1\" class=\"dataframe\">\n",
       "  <thead>\n",
       "    <tr style=\"text-align: right;\">\n",
       "      <th></th>\n",
       "      <th>records</th>\n",
       "    </tr>\n",
       "  </thead>\n",
       "  <tbody>\n",
       "    <tr>\n",
       "      <th>0</th>\n",
       "      <td>{'age': 68, 'city': 'New Danielfort', 'lat': -...</td>\n",
       "    </tr>\n",
       "    <tr>\n",
       "      <th>1</th>\n",
       "      <td>{'age': 33, 'city': 'Port Karinamouth', 'lat':...</td>\n",
       "    </tr>\n",
       "    <tr>\n",
       "      <th>2</th>\n",
       "      <td>{'age': 72, 'city': 'Timothystad', 'lat': 34.8...</td>\n",
       "    </tr>\n",
       "    <tr>\n",
       "      <th>3</th>\n",
       "      <td>{'age': 32, 'city': 'Wilcoxside', 'lat': -22.8...</td>\n",
       "    </tr>\n",
       "    <tr>\n",
       "      <th>4</th>\n",
       "      <td>{'age': 62, 'city': 'Nicolefurt', 'lat': 82.29...</td>\n",
       "    </tr>\n",
       "    <tr>\n",
       "      <th>...</th>\n",
       "      <td>...</td>\n",
       "    </tr>\n",
       "    <tr>\n",
       "      <th>995</th>\n",
       "      <td>{'age': 27, 'city': 'Wallschester', 'lat': -70...</td>\n",
       "    </tr>\n",
       "    <tr>\n",
       "      <th>996</th>\n",
       "      <td>{'age': 61, 'city': 'West Patriciaview', 'lat'...</td>\n",
       "    </tr>\n",
       "    <tr>\n",
       "      <th>997</th>\n",
       "      <td>{'age': 40, 'city': 'Barbaraburgh', 'lat': 11....</td>\n",
       "    </tr>\n",
       "    <tr>\n",
       "      <th>998</th>\n",
       "      <td>{'age': 70, 'city': 'New Justinbury', 'lat': -...</td>\n",
       "    </tr>\n",
       "    <tr>\n",
       "      <th>999</th>\n",
       "      <td>{'age': 44, 'city': 'Lake Matthewmouth', 'lat'...</td>\n",
       "    </tr>\n",
       "  </tbody>\n",
       "</table>\n",
       "<p>1000 rows × 1 columns</p>\n",
       "</div>"
      ],
      "text/plain": [
       "                                               records\n",
       "0    {'age': 68, 'city': 'New Danielfort', 'lat': -...\n",
       "1    {'age': 33, 'city': 'Port Karinamouth', 'lat':...\n",
       "2    {'age': 72, 'city': 'Timothystad', 'lat': 34.8...\n",
       "3    {'age': 32, 'city': 'Wilcoxside', 'lat': -22.8...\n",
       "4    {'age': 62, 'city': 'Nicolefurt', 'lat': 82.29...\n",
       "..                                                 ...\n",
       "995  {'age': 27, 'city': 'Wallschester', 'lat': -70...\n",
       "996  {'age': 61, 'city': 'West Patriciaview', 'lat'...\n",
       "997  {'age': 40, 'city': 'Barbaraburgh', 'lat': 11....\n",
       "998  {'age': 70, 'city': 'New Justinbury', 'lat': -...\n",
       "999  {'age': 44, 'city': 'Lake Matthewmouth', 'lat'...\n",
       "\n",
       "[1000 rows x 1 columns]"
      ]
     },
     "execution_count": 33,
     "metadata": {},
     "output_type": "execute_result"
    }
   ],
   "source": [
    "filename = 'data.json'\n",
    "df = pd.read_json(filename)\n",
    "df"
   ]
  },
  {
   "cell_type": "code",
   "execution_count": 35,
   "id": "d05646aa",
   "metadata": {},
   "outputs": [
    {
     "name": "stderr",
     "output_type": "stream",
     "text": [
      "/tmp/ipykernel_1124315/3778361752.py:1: FutureWarning: pandas.io.json.json_normalize is deprecated, use pandas.json_normalize instead\n",
      "  df=pd_JSON.json_normalize(data,record_path='records')\n"
     ]
    }
   ],
   "source": [
    "df=pd_JSON.json_normalize(data,record_path='records')"
   ]
  },
  {
   "cell_type": "code",
   "execution_count": 36,
   "id": "3a7295c7",
   "metadata": {},
   "outputs": [
    {
     "data": {
      "text/html": [
       "<div>\n",
       "<style scoped>\n",
       "    .dataframe tbody tr th:only-of-type {\n",
       "        vertical-align: middle;\n",
       "    }\n",
       "\n",
       "    .dataframe tbody tr th {\n",
       "        vertical-align: top;\n",
       "    }\n",
       "\n",
       "    .dataframe thead th {\n",
       "        text-align: right;\n",
       "    }\n",
       "</style>\n",
       "<table border=\"1\" class=\"dataframe\">\n",
       "  <thead>\n",
       "    <tr style=\"text-align: right;\">\n",
       "      <th></th>\n",
       "      <th>age</th>\n",
       "      <th>city</th>\n",
       "      <th>lat</th>\n",
       "      <th>lng</th>\n",
       "      <th>name</th>\n",
       "      <th>state</th>\n",
       "      <th>street</th>\n",
       "      <th>zip</th>\n",
       "    </tr>\n",
       "  </thead>\n",
       "  <tbody>\n",
       "    <tr>\n",
       "      <th>0</th>\n",
       "      <td>68</td>\n",
       "      <td>New Danielfort</td>\n",
       "      <td>-40.516858</td>\n",
       "      <td>115.250700</td>\n",
       "      <td>Dennis Gallagher</td>\n",
       "      <td>Rhode Island</td>\n",
       "      <td>61868 Heather Ford</td>\n",
       "      <td>40800</td>\n",
       "    </tr>\n",
       "    <tr>\n",
       "      <th>1</th>\n",
       "      <td>33</td>\n",
       "      <td>Port Karinamouth</td>\n",
       "      <td>28.278718</td>\n",
       "      <td>82.314419</td>\n",
       "      <td>Michelle Harper</td>\n",
       "      <td>Mississippi</td>\n",
       "      <td>59938 Garcia Estate</td>\n",
       "      <td>70453</td>\n",
       "    </tr>\n",
       "    <tr>\n",
       "      <th>2</th>\n",
       "      <td>72</td>\n",
       "      <td>Timothystad</td>\n",
       "      <td>34.812452</td>\n",
       "      <td>179.820495</td>\n",
       "      <td>Chris Sawyer</td>\n",
       "      <td>Michigan</td>\n",
       "      <td>885 Gonzalez Branch Apt. 429</td>\n",
       "      <td>51686</td>\n",
       "    </tr>\n",
       "    <tr>\n",
       "      <th>3</th>\n",
       "      <td>32</td>\n",
       "      <td>Wilcoxside</td>\n",
       "      <td>-22.880790</td>\n",
       "      <td>-96.902495</td>\n",
       "      <td>Jeffrey Cohen</td>\n",
       "      <td>Kentucky</td>\n",
       "      <td>560 Leslie Fall</td>\n",
       "      <td>46006</td>\n",
       "    </tr>\n",
       "    <tr>\n",
       "      <th>4</th>\n",
       "      <td>62</td>\n",
       "      <td>Nicolefurt</td>\n",
       "      <td>82.292174</td>\n",
       "      <td>-54.331305</td>\n",
       "      <td>Joshua Roberts</td>\n",
       "      <td>Arizona</td>\n",
       "      <td>314 Flores Land Suite 111</td>\n",
       "      <td>58849</td>\n",
       "    </tr>\n",
       "    <tr>\n",
       "      <th>...</th>\n",
       "      <td>...</td>\n",
       "      <td>...</td>\n",
       "      <td>...</td>\n",
       "      <td>...</td>\n",
       "      <td>...</td>\n",
       "      <td>...</td>\n",
       "      <td>...</td>\n",
       "      <td>...</td>\n",
       "    </tr>\n",
       "    <tr>\n",
       "      <th>995</th>\n",
       "      <td>27</td>\n",
       "      <td>Wallschester</td>\n",
       "      <td>-70.208219</td>\n",
       "      <td>-82.540125</td>\n",
       "      <td>Christina Turner</td>\n",
       "      <td>Colorado</td>\n",
       "      <td>87208 Blanchard Curve Suite 042</td>\n",
       "      <td>89978</td>\n",
       "    </tr>\n",
       "    <tr>\n",
       "      <th>996</th>\n",
       "      <td>61</td>\n",
       "      <td>West Patriciaview</td>\n",
       "      <td>78.145451</td>\n",
       "      <td>72.610241</td>\n",
       "      <td>Brenda Castro</td>\n",
       "      <td>Minnesota</td>\n",
       "      <td>56006 Julie Mount</td>\n",
       "      <td>94148</td>\n",
       "    </tr>\n",
       "    <tr>\n",
       "      <th>997</th>\n",
       "      <td>40</td>\n",
       "      <td>Barbaraburgh</td>\n",
       "      <td>11.646768</td>\n",
       "      <td>179.900343</td>\n",
       "      <td>Evelyn Macias</td>\n",
       "      <td>West Virginia</td>\n",
       "      <td>008 Stephanie Course Apt. 687</td>\n",
       "      <td>21355</td>\n",
       "    </tr>\n",
       "    <tr>\n",
       "      <th>998</th>\n",
       "      <td>70</td>\n",
       "      <td>New Justinbury</td>\n",
       "      <td>-83.719995</td>\n",
       "      <td>-35.063490</td>\n",
       "      <td>Nancy Scott</td>\n",
       "      <td>South Carolina</td>\n",
       "      <td>592 Carl Rapid</td>\n",
       "      <td>90992</td>\n",
       "    </tr>\n",
       "    <tr>\n",
       "      <th>999</th>\n",
       "      <td>44</td>\n",
       "      <td>Lake Matthewmouth</td>\n",
       "      <td>-54.422786</td>\n",
       "      <td>28.285952</td>\n",
       "      <td>Christopher Kline</td>\n",
       "      <td>Florida</td>\n",
       "      <td>262 Rivera Ways Apt. 147</td>\n",
       "      <td>51638</td>\n",
       "    </tr>\n",
       "  </tbody>\n",
       "</table>\n",
       "<p>1000 rows × 8 columns</p>\n",
       "</div>"
      ],
      "text/plain": [
       "     age               city        lat         lng               name  \\\n",
       "0     68     New Danielfort -40.516858  115.250700   Dennis Gallagher   \n",
       "1     33   Port Karinamouth  28.278718   82.314419    Michelle Harper   \n",
       "2     72        Timothystad  34.812452  179.820495       Chris Sawyer   \n",
       "3     32         Wilcoxside -22.880790  -96.902495      Jeffrey Cohen   \n",
       "4     62         Nicolefurt  82.292174  -54.331305     Joshua Roberts   \n",
       "..   ...                ...        ...         ...                ...   \n",
       "995   27       Wallschester -70.208219  -82.540125   Christina Turner   \n",
       "996   61  West Patriciaview  78.145451   72.610241      Brenda Castro   \n",
       "997   40       Barbaraburgh  11.646768  179.900343      Evelyn Macias   \n",
       "998   70     New Justinbury -83.719995  -35.063490        Nancy Scott   \n",
       "999   44  Lake Matthewmouth -54.422786   28.285952  Christopher Kline   \n",
       "\n",
       "              state                           street    zip  \n",
       "0      Rhode Island               61868 Heather Ford  40800  \n",
       "1       Mississippi              59938 Garcia Estate  70453  \n",
       "2          Michigan     885 Gonzalez Branch Apt. 429  51686  \n",
       "3          Kentucky                  560 Leslie Fall  46006  \n",
       "4           Arizona        314 Flores Land Suite 111  58849  \n",
       "..              ...                              ...    ...  \n",
       "995        Colorado  87208 Blanchard Curve Suite 042  89978  \n",
       "996       Minnesota                56006 Julie Mount  94148  \n",
       "997   West Virginia    008 Stephanie Course Apt. 687  21355  \n",
       "998  South Carolina                   592 Carl Rapid  90992  \n",
       "999         Florida         262 Rivera Ways Apt. 147  51638  \n",
       "\n",
       "[1000 rows x 8 columns]"
      ]
     },
     "execution_count": 36,
     "metadata": {},
     "output_type": "execute_result"
    }
   ],
   "source": [
    "df"
   ]
  },
  {
   "cell_type": "code",
   "execution_count": 37,
   "id": "67ab6ff8",
   "metadata": {},
   "outputs": [
    {
     "data": {
      "text/plain": [
       "'{\"age\":{\"0\":68,\"1\":33},\"city\":{\"0\":\"New Danielfort\",\"1\":\"Port Karinamouth\"},\"lat\":{\"0\":-40.516858,\"1\":28.278718},\"lng\":{\"0\":115.2507,\"1\":82.314419},\"name\":{\"0\":\"Dennis Gallagher\",\"1\":\"Michelle Harper\"},\"state\":{\"0\":\"Rhode Island\",\"1\":\"Mississippi\"},\"street\":{\"0\":\"61868 Heather Ford\",\"1\":\"59938 Garcia Estate\"},\"zip\":{\"0\":\"40800\",\"1\":\"70453\"}}'"
      ]
     },
     "execution_count": 37,
     "metadata": {},
     "output_type": "execute_result"
    }
   ],
   "source": [
    "df.head(2).to_json()"
   ]
  },
  {
   "cell_type": "code",
   "execution_count": 39,
   "id": "6dd47f71",
   "metadata": {},
   "outputs": [
    {
     "data": {
      "text/plain": [
       "'[{\"age\":68,\"city\":\"New Danielfort\",\"lat\":-40.516858,\"lng\":115.2507,\"name\":\"Dennis Gallagher\",\"state\":\"Rhode Island\",\"street\":\"61868 Heather Ford\",\"zip\":\"40800\"},{\"age\":33,\"city\":\"Port Karinamouth\",\"lat\":28.278718,\"lng\":82.314419,\"name\":\"Michelle Harper\",\"state\":\"Mississippi\",\"street\":\"59938 Garcia Estate\",\"zip\":\"70453\"}]'"
      ]
     },
     "execution_count": 39,
     "metadata": {},
     "output_type": "execute_result"
    }
   ],
   "source": [
    "df.head(2).to_json(orient='records')"
   ]
  },
  {
   "cell_type": "code",
   "execution_count": null,
   "id": "f6637d77",
   "metadata": {},
   "outputs": [],
   "source": []
  }
 ],
 "metadata": {
  "kernelspec": {
   "display_name": "Python 3 (ipykernel)",
   "language": "python",
   "name": "python3"
  },
  "language_info": {
   "codemirror_mode": {
    "name": "ipython",
    "version": 3
   },
   "file_extension": ".py",
   "mimetype": "text/x-python",
   "name": "python",
   "nbconvert_exporter": "python",
   "pygments_lexer": "ipython3",
   "version": "3.8.10"
  }
 },
 "nbformat": 4,
 "nbformat_minor": 5
}
