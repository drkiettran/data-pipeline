{
 "cells": [
  {
   "cell_type": "markdown",
   "id": "67da51d2",
   "metadata": {},
   "source": [
    "# Reading & Writing Files\n",
    "\n",
    "Based on Chapter 3 of Data Engineering in Python by Crickard.\n",
    "\n",
    "- Install `faker` library: `pip3 install faker`.\n",
    "- Install `pandas` library: `pip3 install pandas`.\n"
   ]
  },
  {
   "cell_type": "code",
   "execution_count": 1,
   "id": "33abab0b",
   "metadata": {},
   "outputs": [],
   "source": [
    "import csv\n",
    "from faker import Faker\n",
    "import pandas as pd"
   ]
  },
  {
   "cell_type": "markdown",
   "id": "3f57be00",
   "metadata": {},
   "source": [
    "## Simple write for CSV content"
   ]
  },
  {
   "cell_type": "code",
   "execution_count": 2,
   "id": "17497a40",
   "metadata": {},
   "outputs": [],
   "source": [
    "filename = 'myCSV.csv'\n",
    "output = open(filename, mode='w')\n",
    "mywriter = csv.writer(output)\n",
    "header = ['name', 'age']\n",
    "mywriter.writerow(header)\n",
    "data = ['Bob Smith', 40]\n",
    "mywriter.writerow(data)\n",
    "output.close()"
   ]
  },
  {
   "cell_type": "markdown",
   "id": "4a1a675e",
   "metadata": {},
   "source": [
    "## Simple write for CSV content with `fake` data generator"
   ]
  },
  {
   "cell_type": "code",
   "execution_count": 3,
   "id": "dd3ec41f",
   "metadata": {},
   "outputs": [],
   "source": [
    "filename = 'data.csv'\n",
    "output = open(filename,'w')\n",
    "fake = Faker()\n",
    "\n",
    "header = ['name','age','street','city','state','zip','lng','lat']\n",
    "mywriter = csv.writer(output)\n",
    "mywriter.writerow(header)\n",
    "\n",
    "for r in range(1000):\n",
    "    mywriter.writerow([fake.name(),fake.random_int(min=18,\n",
    "    max=80, step=1), fake.street_address(), fake.city(),fake.\n",
    "    state(),fake.zipcode(),fake.longitude(),fake.latitude()])\n",
    "    \n",
    "output.close()"
   ]
  },
  {
   "cell_type": "markdown",
   "id": "b34d3c3f",
   "metadata": {},
   "source": [
    "## Simple read for CSV content."
   ]
  },
  {
   "cell_type": "code",
   "execution_count": 4,
   "id": "1e3bab9b",
   "metadata": {},
   "outputs": [],
   "source": [
    "filename = 'data.csv'\n",
    "data = []\n",
    "with open(filename, 'r') as f:\n",
    "    myreader = csv.DictReader(f)\n",
    "    headers = next(myreader)\n",
    "    for row in myreader:\n",
    "        data.append(row)\n",
    "# print(data)        "
   ]
  },
  {
   "cell_type": "markdown",
   "id": "d5dcaca6",
   "metadata": {},
   "source": [
    "## Simple read for CSV content using Pandas library"
   ]
  },
  {
   "cell_type": "code",
   "execution_count": 5,
   "id": "68dd6b77",
   "metadata": {},
   "outputs": [
    {
     "data": {
      "text/html": [
       "<div>\n",
       "<style scoped>\n",
       "    .dataframe tbody tr th:only-of-type {\n",
       "        vertical-align: middle;\n",
       "    }\n",
       "\n",
       "    .dataframe tbody tr th {\n",
       "        vertical-align: top;\n",
       "    }\n",
       "\n",
       "    .dataframe thead th {\n",
       "        text-align: right;\n",
       "    }\n",
       "</style>\n",
       "<table border=\"1\" class=\"dataframe\">\n",
       "  <thead>\n",
       "    <tr style=\"text-align: right;\">\n",
       "      <th></th>\n",
       "      <th>name</th>\n",
       "      <th>age</th>\n",
       "      <th>street</th>\n",
       "      <th>city</th>\n",
       "      <th>state</th>\n",
       "      <th>zip</th>\n",
       "      <th>lng</th>\n",
       "      <th>lat</th>\n",
       "    </tr>\n",
       "  </thead>\n",
       "  <tbody>\n",
       "    <tr>\n",
       "      <th>0</th>\n",
       "      <td>Anthony Scott</td>\n",
       "      <td>21</td>\n",
       "      <td>95009 Latoya River</td>\n",
       "      <td>Port Chris</td>\n",
       "      <td>New Mexico</td>\n",
       "      <td>98047</td>\n",
       "      <td>9.066664</td>\n",
       "      <td>2.072821</td>\n",
       "    </tr>\n",
       "    <tr>\n",
       "      <th>1</th>\n",
       "      <td>Timothy Ward Jr.</td>\n",
       "      <td>49</td>\n",
       "      <td>0740 Brian Isle</td>\n",
       "      <td>Johnsonview</td>\n",
       "      <td>Arkansas</td>\n",
       "      <td>641</td>\n",
       "      <td>-50.114069</td>\n",
       "      <td>36.508569</td>\n",
       "    </tr>\n",
       "    <tr>\n",
       "      <th>2</th>\n",
       "      <td>Jill Spencer</td>\n",
       "      <td>57</td>\n",
       "      <td>82037 Thornton Meadow</td>\n",
       "      <td>West Shirley</td>\n",
       "      <td>Washington</td>\n",
       "      <td>85966</td>\n",
       "      <td>-137.113351</td>\n",
       "      <td>61.626136</td>\n",
       "    </tr>\n",
       "    <tr>\n",
       "      <th>3</th>\n",
       "      <td>Peter Ali</td>\n",
       "      <td>47</td>\n",
       "      <td>2652 Joseph Springs</td>\n",
       "      <td>Port Samantha</td>\n",
       "      <td>Montana</td>\n",
       "      <td>96703</td>\n",
       "      <td>165.438152</td>\n",
       "      <td>-21.898822</td>\n",
       "    </tr>\n",
       "    <tr>\n",
       "      <th>4</th>\n",
       "      <td>Mrs. Wendy Pennington</td>\n",
       "      <td>21</td>\n",
       "      <td>233 David Harbors Suite 971</td>\n",
       "      <td>Christopherborough</td>\n",
       "      <td>New Mexico</td>\n",
       "      <td>4032</td>\n",
       "      <td>-29.803583</td>\n",
       "      <td>34.210608</td>\n",
       "    </tr>\n",
       "    <tr>\n",
       "      <th>5</th>\n",
       "      <td>Kenneth Davies</td>\n",
       "      <td>45</td>\n",
       "      <td>3065 Brady Fork Suite 451</td>\n",
       "      <td>Powerstown</td>\n",
       "      <td>Hawaii</td>\n",
       "      <td>67847</td>\n",
       "      <td>63.140109</td>\n",
       "      <td>51.041402</td>\n",
       "    </tr>\n",
       "    <tr>\n",
       "      <th>6</th>\n",
       "      <td>Shannon Baird</td>\n",
       "      <td>80</td>\n",
       "      <td>095 Williams Dam</td>\n",
       "      <td>North Crystal</td>\n",
       "      <td>Rhode Island</td>\n",
       "      <td>59215</td>\n",
       "      <td>158.107597</td>\n",
       "      <td>-51.430523</td>\n",
       "    </tr>\n",
       "    <tr>\n",
       "      <th>7</th>\n",
       "      <td>Anthony Hogan</td>\n",
       "      <td>46</td>\n",
       "      <td>218 Garcia Vista</td>\n",
       "      <td>Grantside</td>\n",
       "      <td>Ohio</td>\n",
       "      <td>37656</td>\n",
       "      <td>-175.433700</td>\n",
       "      <td>-65.052341</td>\n",
       "    </tr>\n",
       "    <tr>\n",
       "      <th>8</th>\n",
       "      <td>Elizabeth Hawkins</td>\n",
       "      <td>31</td>\n",
       "      <td>074 Micheal Curve</td>\n",
       "      <td>Port Julietown</td>\n",
       "      <td>Ohio</td>\n",
       "      <td>88567</td>\n",
       "      <td>124.825678</td>\n",
       "      <td>54.441215</td>\n",
       "    </tr>\n",
       "    <tr>\n",
       "      <th>9</th>\n",
       "      <td>Natalie Thomas</td>\n",
       "      <td>58</td>\n",
       "      <td>72214 Klein Islands</td>\n",
       "      <td>South Robert</td>\n",
       "      <td>Alabama</td>\n",
       "      <td>51537</td>\n",
       "      <td>-27.360547</td>\n",
       "      <td>15.005816</td>\n",
       "    </tr>\n",
       "  </tbody>\n",
       "</table>\n",
       "</div>"
      ],
      "text/plain": [
       "                    name  age                       street  \\\n",
       "0          Anthony Scott   21           95009 Latoya River   \n",
       "1       Timothy Ward Jr.   49              0740 Brian Isle   \n",
       "2           Jill Spencer   57        82037 Thornton Meadow   \n",
       "3              Peter Ali   47          2652 Joseph Springs   \n",
       "4  Mrs. Wendy Pennington   21  233 David Harbors Suite 971   \n",
       "5         Kenneth Davies   45    3065 Brady Fork Suite 451   \n",
       "6          Shannon Baird   80             095 Williams Dam   \n",
       "7          Anthony Hogan   46             218 Garcia Vista   \n",
       "8      Elizabeth Hawkins   31            074 Micheal Curve   \n",
       "9         Natalie Thomas   58          72214 Klein Islands   \n",
       "\n",
       "                 city         state    zip         lng        lat  \n",
       "0          Port Chris    New Mexico  98047    9.066664   2.072821  \n",
       "1         Johnsonview      Arkansas    641  -50.114069  36.508569  \n",
       "2        West Shirley    Washington  85966 -137.113351  61.626136  \n",
       "3       Port Samantha       Montana  96703  165.438152 -21.898822  \n",
       "4  Christopherborough    New Mexico   4032  -29.803583  34.210608  \n",
       "5          Powerstown        Hawaii  67847   63.140109  51.041402  \n",
       "6       North Crystal  Rhode Island  59215  158.107597 -51.430523  \n",
       "7           Grantside          Ohio  37656 -175.433700 -65.052341  \n",
       "8      Port Julietown          Ohio  88567  124.825678  54.441215  \n",
       "9        South Robert       Alabama  51537  -27.360547  15.005816  "
      ]
     },
     "execution_count": 5,
     "metadata": {},
     "output_type": "execute_result"
    }
   ],
   "source": [
    "df = pd.read_csv(filename)\n",
    "df.head(10)"
   ]
  },
  {
   "cell_type": "markdown",
   "id": "63407aeb",
   "metadata": {},
   "source": [
    "## Simple Write for JSON"
   ]
  },
  {
   "cell_type": "code",
   "execution_count": 6,
   "id": "00080a53",
   "metadata": {},
   "outputs": [],
   "source": [
    "import json\n",
    "import pandas.io.json as pd_JSON"
   ]
  },
  {
   "cell_type": "code",
   "execution_count": 7,
   "id": "309fd998",
   "metadata": {},
   "outputs": [
    {
     "data": {
      "text/plain": [
       "288011"
      ]
     },
     "execution_count": 7,
     "metadata": {},
     "output_type": "execute_result"
    }
   ],
   "source": [
    "filename = 'data.json'\n",
    "output = open(filename, 'w')\n",
    "fake = Faker()\n",
    "\n",
    "alldata = {}\n",
    "alldata ['records'] = []\n",
    "\n",
    "for x in range(1000):\n",
    "    data={\"name\":fake.name(),\"age\":fake.random_int(min=18, max=80, step=1),\n",
    "          \"street\":fake.street_address(),\n",
    "          \"city\":fake.city(),\"state\":fake.state(),\n",
    "          \"zip\":fake.zipcode(),\n",
    "          \"lng\":float(fake.longitude()),\n",
    "          \"lat\":float(fake.latitude())}\n",
    "    \n",
    "    alldata['records'].append(data)\n",
    "\n",
    "output.write(json.dumps(alldata, indent=4, sort_keys=True))"
   ]
  },
  {
   "cell_type": "markdown",
   "id": "103ba11a",
   "metadata": {},
   "source": [
    "# Simple Read for JSON content"
   ]
  },
  {
   "cell_type": "code",
   "execution_count": 8,
   "id": "c9925127",
   "metadata": {},
   "outputs": [
    {
     "data": {
      "text/plain": [
       "{'age': 74,\n",
       " 'city': 'Finleyhaven',\n",
       " 'lat': 65.036803,\n",
       " 'lng': 53.429872,\n",
       " 'name': 'John Olsen',\n",
       " 'state': 'New Hampshire',\n",
       " 'street': '25522 Knight Cape',\n",
       " 'zip': '65196'}"
      ]
     },
     "execution_count": 8,
     "metadata": {},
     "output_type": "execute_result"
    }
   ],
   "source": [
    "filename = 'data.json'\n",
    "with open(filename, 'r') as f:\n",
    "    data = json.load(f)\n",
    "    \n",
    "data['records'][0]"
   ]
  },
  {
   "cell_type": "markdown",
   "id": "28e7564f",
   "metadata": {},
   "source": [
    "## Simple read for JSON content using Pandas DataFrame"
   ]
  },
  {
   "cell_type": "code",
   "execution_count": 9,
   "id": "1bc3f963",
   "metadata": {},
   "outputs": [
    {
     "data": {
      "text/html": [
       "<div>\n",
       "<style scoped>\n",
       "    .dataframe tbody tr th:only-of-type {\n",
       "        vertical-align: middle;\n",
       "    }\n",
       "\n",
       "    .dataframe tbody tr th {\n",
       "        vertical-align: top;\n",
       "    }\n",
       "\n",
       "    .dataframe thead th {\n",
       "        text-align: right;\n",
       "    }\n",
       "</style>\n",
       "<table border=\"1\" class=\"dataframe\">\n",
       "  <thead>\n",
       "    <tr style=\"text-align: right;\">\n",
       "      <th></th>\n",
       "      <th>records</th>\n",
       "    </tr>\n",
       "  </thead>\n",
       "  <tbody>\n",
       "    <tr>\n",
       "      <th>0</th>\n",
       "      <td>{'age': 74, 'city': 'Finleyhaven', 'lat': 65.0...</td>\n",
       "    </tr>\n",
       "    <tr>\n",
       "      <th>1</th>\n",
       "      <td>{'age': 30, 'city': 'Port Jamesshire', 'lat': ...</td>\n",
       "    </tr>\n",
       "    <tr>\n",
       "      <th>2</th>\n",
       "      <td>{'age': 24, 'city': 'Carrfort', 'lat': 86.9667...</td>\n",
       "    </tr>\n",
       "    <tr>\n",
       "      <th>3</th>\n",
       "      <td>{'age': 20, 'city': 'Hallmouth', 'lat': -74.27...</td>\n",
       "    </tr>\n",
       "    <tr>\n",
       "      <th>4</th>\n",
       "      <td>{'age': 54, 'city': 'South April', 'lat': -43....</td>\n",
       "    </tr>\n",
       "    <tr>\n",
       "      <th>...</th>\n",
       "      <td>...</td>\n",
       "    </tr>\n",
       "    <tr>\n",
       "      <th>995</th>\n",
       "      <td>{'age': 53, 'city': 'North Stephenview', 'lat'...</td>\n",
       "    </tr>\n",
       "    <tr>\n",
       "      <th>996</th>\n",
       "      <td>{'age': 64, 'city': 'Watsonfurt', 'lat': -81.4...</td>\n",
       "    </tr>\n",
       "    <tr>\n",
       "      <th>997</th>\n",
       "      <td>{'age': 68, 'city': 'East Jacob', 'lat': -11.5...</td>\n",
       "    </tr>\n",
       "    <tr>\n",
       "      <th>998</th>\n",
       "      <td>{'age': 70, 'city': 'Meganside', 'lat': 40.050...</td>\n",
       "    </tr>\n",
       "    <tr>\n",
       "      <th>999</th>\n",
       "      <td>{'age': 30, 'city': 'East Josephfurt', 'lat': ...</td>\n",
       "    </tr>\n",
       "  </tbody>\n",
       "</table>\n",
       "<p>1000 rows × 1 columns</p>\n",
       "</div>"
      ],
      "text/plain": [
       "                                               records\n",
       "0    {'age': 74, 'city': 'Finleyhaven', 'lat': 65.0...\n",
       "1    {'age': 30, 'city': 'Port Jamesshire', 'lat': ...\n",
       "2    {'age': 24, 'city': 'Carrfort', 'lat': 86.9667...\n",
       "3    {'age': 20, 'city': 'Hallmouth', 'lat': -74.27...\n",
       "4    {'age': 54, 'city': 'South April', 'lat': -43....\n",
       "..                                                 ...\n",
       "995  {'age': 53, 'city': 'North Stephenview', 'lat'...\n",
       "996  {'age': 64, 'city': 'Watsonfurt', 'lat': -81.4...\n",
       "997  {'age': 68, 'city': 'East Jacob', 'lat': -11.5...\n",
       "998  {'age': 70, 'city': 'Meganside', 'lat': 40.050...\n",
       "999  {'age': 30, 'city': 'East Josephfurt', 'lat': ...\n",
       "\n",
       "[1000 rows x 1 columns]"
      ]
     },
     "execution_count": 9,
     "metadata": {},
     "output_type": "execute_result"
    }
   ],
   "source": [
    "filename = 'data.json'\n",
    "df = pd.read_json(filename)\n",
    "df"
   ]
  },
  {
   "cell_type": "code",
   "execution_count": 10,
   "id": "d05646aa",
   "metadata": {},
   "outputs": [
    {
     "name": "stderr",
     "output_type": "stream",
     "text": [
      "/tmp/ipykernel_1137642/3778361752.py:1: FutureWarning: pandas.io.json.json_normalize is deprecated, use pandas.json_normalize instead\n",
      "  df=pd_JSON.json_normalize(data,record_path='records')\n"
     ]
    }
   ],
   "source": [
    "df=pd_JSON.json_normalize(data,record_path='records')"
   ]
  },
  {
   "cell_type": "code",
   "execution_count": 11,
   "id": "3a7295c7",
   "metadata": {},
   "outputs": [
    {
     "data": {
      "text/html": [
       "<div>\n",
       "<style scoped>\n",
       "    .dataframe tbody tr th:only-of-type {\n",
       "        vertical-align: middle;\n",
       "    }\n",
       "\n",
       "    .dataframe tbody tr th {\n",
       "        vertical-align: top;\n",
       "    }\n",
       "\n",
       "    .dataframe thead th {\n",
       "        text-align: right;\n",
       "    }\n",
       "</style>\n",
       "<table border=\"1\" class=\"dataframe\">\n",
       "  <thead>\n",
       "    <tr style=\"text-align: right;\">\n",
       "      <th></th>\n",
       "      <th>age</th>\n",
       "      <th>city</th>\n",
       "      <th>lat</th>\n",
       "      <th>lng</th>\n",
       "      <th>name</th>\n",
       "      <th>state</th>\n",
       "      <th>street</th>\n",
       "      <th>zip</th>\n",
       "    </tr>\n",
       "  </thead>\n",
       "  <tbody>\n",
       "    <tr>\n",
       "      <th>0</th>\n",
       "      <td>74</td>\n",
       "      <td>Finleyhaven</td>\n",
       "      <td>65.036803</td>\n",
       "      <td>53.429872</td>\n",
       "      <td>John Olsen</td>\n",
       "      <td>New Hampshire</td>\n",
       "      <td>25522 Knight Cape</td>\n",
       "      <td>65196</td>\n",
       "    </tr>\n",
       "    <tr>\n",
       "      <th>1</th>\n",
       "      <td>30</td>\n",
       "      <td>Port Jamesshire</td>\n",
       "      <td>21.552645</td>\n",
       "      <td>7.045669</td>\n",
       "      <td>Maurice Rivers</td>\n",
       "      <td>South Dakota</td>\n",
       "      <td>17301 Todd Fort</td>\n",
       "      <td>64517</td>\n",
       "    </tr>\n",
       "    <tr>\n",
       "      <th>2</th>\n",
       "      <td>24</td>\n",
       "      <td>Carrfort</td>\n",
       "      <td>86.966742</td>\n",
       "      <td>-101.352826</td>\n",
       "      <td>Melissa Hunt MD</td>\n",
       "      <td>Colorado</td>\n",
       "      <td>436 Poole Motorway Suite 554</td>\n",
       "      <td>60904</td>\n",
       "    </tr>\n",
       "    <tr>\n",
       "      <th>3</th>\n",
       "      <td>20</td>\n",
       "      <td>Hallmouth</td>\n",
       "      <td>-74.273999</td>\n",
       "      <td>-4.928255</td>\n",
       "      <td>Jennifer Stevens</td>\n",
       "      <td>Oklahoma</td>\n",
       "      <td>5350 Mills Trail Suite 316</td>\n",
       "      <td>01837</td>\n",
       "    </tr>\n",
       "    <tr>\n",
       "      <th>4</th>\n",
       "      <td>54</td>\n",
       "      <td>South April</td>\n",
       "      <td>-43.362642</td>\n",
       "      <td>72.601647</td>\n",
       "      <td>Madeline King</td>\n",
       "      <td>Wisconsin</td>\n",
       "      <td>429 Larson Court</td>\n",
       "      <td>73301</td>\n",
       "    </tr>\n",
       "    <tr>\n",
       "      <th>...</th>\n",
       "      <td>...</td>\n",
       "      <td>...</td>\n",
       "      <td>...</td>\n",
       "      <td>...</td>\n",
       "      <td>...</td>\n",
       "      <td>...</td>\n",
       "      <td>...</td>\n",
       "      <td>...</td>\n",
       "    </tr>\n",
       "    <tr>\n",
       "      <th>995</th>\n",
       "      <td>53</td>\n",
       "      <td>North Stephenview</td>\n",
       "      <td>-24.109969</td>\n",
       "      <td>39.562163</td>\n",
       "      <td>Michael Lewis</td>\n",
       "      <td>Delaware</td>\n",
       "      <td>93919 Bush Spur Suite 674</td>\n",
       "      <td>12124</td>\n",
       "    </tr>\n",
       "    <tr>\n",
       "      <th>996</th>\n",
       "      <td>64</td>\n",
       "      <td>Watsonfurt</td>\n",
       "      <td>-81.428474</td>\n",
       "      <td>58.348779</td>\n",
       "      <td>Michael Chaney</td>\n",
       "      <td>Arizona</td>\n",
       "      <td>692 Ward Walks</td>\n",
       "      <td>89361</td>\n",
       "    </tr>\n",
       "    <tr>\n",
       "      <th>997</th>\n",
       "      <td>68</td>\n",
       "      <td>East Jacob</td>\n",
       "      <td>-11.582520</td>\n",
       "      <td>-173.897153</td>\n",
       "      <td>Stacey Reed</td>\n",
       "      <td>Hawaii</td>\n",
       "      <td>1698 Janet Inlet</td>\n",
       "      <td>80252</td>\n",
       "    </tr>\n",
       "    <tr>\n",
       "      <th>998</th>\n",
       "      <td>70</td>\n",
       "      <td>Meganside</td>\n",
       "      <td>40.050132</td>\n",
       "      <td>104.403391</td>\n",
       "      <td>Cheryl Carson</td>\n",
       "      <td>North Carolina</td>\n",
       "      <td>912 Fields Harbors</td>\n",
       "      <td>91480</td>\n",
       "    </tr>\n",
       "    <tr>\n",
       "      <th>999</th>\n",
       "      <td>30</td>\n",
       "      <td>East Josephfurt</td>\n",
       "      <td>-53.743834</td>\n",
       "      <td>-96.614586</td>\n",
       "      <td>Allen Stephenson</td>\n",
       "      <td>West Virginia</td>\n",
       "      <td>3058 Harper Highway</td>\n",
       "      <td>35643</td>\n",
       "    </tr>\n",
       "  </tbody>\n",
       "</table>\n",
       "<p>1000 rows × 8 columns</p>\n",
       "</div>"
      ],
      "text/plain": [
       "     age               city        lat         lng              name  \\\n",
       "0     74        Finleyhaven  65.036803   53.429872        John Olsen   \n",
       "1     30    Port Jamesshire  21.552645    7.045669    Maurice Rivers   \n",
       "2     24           Carrfort  86.966742 -101.352826   Melissa Hunt MD   \n",
       "3     20          Hallmouth -74.273999   -4.928255  Jennifer Stevens   \n",
       "4     54        South April -43.362642   72.601647     Madeline King   \n",
       "..   ...                ...        ...         ...               ...   \n",
       "995   53  North Stephenview -24.109969   39.562163     Michael Lewis   \n",
       "996   64         Watsonfurt -81.428474   58.348779    Michael Chaney   \n",
       "997   68         East Jacob -11.582520 -173.897153       Stacey Reed   \n",
       "998   70          Meganside  40.050132  104.403391     Cheryl Carson   \n",
       "999   30    East Josephfurt -53.743834  -96.614586  Allen Stephenson   \n",
       "\n",
       "              state                        street    zip  \n",
       "0     New Hampshire             25522 Knight Cape  65196  \n",
       "1      South Dakota               17301 Todd Fort  64517  \n",
       "2          Colorado  436 Poole Motorway Suite 554  60904  \n",
       "3          Oklahoma    5350 Mills Trail Suite 316  01837  \n",
       "4         Wisconsin              429 Larson Court  73301  \n",
       "..              ...                           ...    ...  \n",
       "995        Delaware     93919 Bush Spur Suite 674  12124  \n",
       "996         Arizona                692 Ward Walks  89361  \n",
       "997          Hawaii              1698 Janet Inlet  80252  \n",
       "998  North Carolina            912 Fields Harbors  91480  \n",
       "999   West Virginia           3058 Harper Highway  35643  \n",
       "\n",
       "[1000 rows x 8 columns]"
      ]
     },
     "execution_count": 11,
     "metadata": {},
     "output_type": "execute_result"
    }
   ],
   "source": [
    "df"
   ]
  },
  {
   "cell_type": "code",
   "execution_count": 12,
   "id": "67ab6ff8",
   "metadata": {},
   "outputs": [
    {
     "data": {
      "text/plain": [
       "'{\"age\":{\"0\":74,\"1\":30},\"city\":{\"0\":\"Finleyhaven\",\"1\":\"Port Jamesshire\"},\"lat\":{\"0\":65.036803,\"1\":21.552645},\"lng\":{\"0\":53.429872,\"1\":7.045669},\"name\":{\"0\":\"John Olsen\",\"1\":\"Maurice Rivers\"},\"state\":{\"0\":\"New Hampshire\",\"1\":\"South Dakota\"},\"street\":{\"0\":\"25522 Knight Cape\",\"1\":\"17301 Todd Fort\"},\"zip\":{\"0\":\"65196\",\"1\":\"64517\"}}'"
      ]
     },
     "execution_count": 12,
     "metadata": {},
     "output_type": "execute_result"
    }
   ],
   "source": [
    "df.head(2).to_json()"
   ]
  },
  {
   "cell_type": "code",
   "execution_count": 13,
   "id": "6dd47f71",
   "metadata": {},
   "outputs": [
    {
     "data": {
      "text/plain": [
       "'[{\"age\":74,\"city\":\"Finleyhaven\",\"lat\":65.036803,\"lng\":53.429872,\"name\":\"John Olsen\",\"state\":\"New Hampshire\",\"street\":\"25522 Knight Cape\",\"zip\":\"65196\"},{\"age\":30,\"city\":\"Port Jamesshire\",\"lat\":21.552645,\"lng\":7.045669,\"name\":\"Maurice Rivers\",\"state\":\"South Dakota\",\"street\":\"17301 Todd Fort\",\"zip\":\"64517\"}]'"
      ]
     },
     "execution_count": 13,
     "metadata": {},
     "output_type": "execute_result"
    }
   ],
   "source": [
    "df.head(2).to_json(orient='records')"
   ]
  },
  {
   "cell_type": "code",
   "execution_count": null,
   "id": "f6637d77",
   "metadata": {},
   "outputs": [],
   "source": []
  },
  {
   "cell_type": "code",
   "execution_count": null,
   "id": "68c9794b",
   "metadata": {},
   "outputs": [],
   "source": []
  }
 ],
 "metadata": {
  "kernelspec": {
   "display_name": "Python 3 (ipykernel)",
   "language": "python",
   "name": "python3"
  },
  "language_info": {
   "codemirror_mode": {
    "name": "ipython",
    "version": 3
   },
   "file_extension": ".py",
   "mimetype": "text/x-python",
   "name": "python",
   "nbconvert_exporter": "python",
   "pygments_lexer": "ipython3",
   "version": "3.8.10"
  }
 },
 "nbformat": 4,
 "nbformat_minor": 5
}
